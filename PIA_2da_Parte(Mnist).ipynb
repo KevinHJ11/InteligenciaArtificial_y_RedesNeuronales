{
  "nbformat": 4,
  "nbformat_minor": 0,
  "metadata": {
    "colab": {
      "provenance": []
    },
    "kernelspec": {
      "name": "python3",
      "display_name": "Python 3"
    },
    "language_info": {
      "name": "python"
    }
  },
  "cells": [
    {
      "cell_type": "markdown",
      "source": [
        "# **Producto Integrador de Aprendizaje**"
      ],
      "metadata": {
        "id": "Ze2cUpAOEZMi"
      }
    },
    {
      "cell_type": "markdown",
      "source": [
        "Alumnado:\n",
        "\n",
        "*   Axel Antonio González Uribe 1910244 IMTC\n",
        "*   Aldo Elian Guajardo Garza 1896665 IMTC\n",
        "*   Carlos Eduardo Juárez Ortiz 1906955 IMTC\n",
        "*   Ramiro Daniel González Rodríguez 1929079 IMTC\n",
        "*   Alejandro Humberto Hernández Casas 1894925 IMTC\n",
        "*   Kevin Orlando Huerta Jaramillo 1854324 IMTC\n",
        "\n",
        "\n",
        "\n",
        "\n",
        "\n",
        "\n"
      ],
      "metadata": {
        "id": "9jPRKhCHFGl7"
      }
    },
    {
      "cell_type": "code",
      "execution_count": 1,
      "metadata": {
        "id": "mUHfhKhkwbAZ"
      },
      "outputs": [],
      "source": [
        "#Importar librerias\n",
        "import cv2\n",
        "import os\n",
        "import matplotlib.pyplot as plt\n",
        "import glob\n",
        "from sklearn.model_selection import train_test_split\n",
        "import tensorflow as tf\n",
        "from tensorflow import keras\n",
        "from tensorflow.keras import datasets, layers, models\n",
        "import numpy as np\n",
        "from keras.layers import Conv2D, MaxPooling2D"
      ]
    },
    {
      "cell_type": "code",
      "source": [
        "imagenes_dataset = []\n",
        "etiquetas_dataset = []"
      ],
      "metadata": {
        "id": "IZIgmyvZwjaz"
      },
      "execution_count": 2,
      "outputs": []
    },
    {
      "cell_type": "code",
      "source": [
        "file = '/content/drive/MyDrive/PIA/Numeros/N0' \n",
        "for x in glob.iglob(f'{file}/*.png'):\n",
        "  test_image = cv2.imread(x, cv2.IMREAD_GRAYSCALE )\n",
        "  img_resized = cv2.resize(test_image, (28,28,), interpolation=cv2.INTER_LINEAR )\n",
        "  img_resized = cv2.bitwise_not(img_resized)\n",
        "  imagenes_dataset.append(img_resized)\n",
        "  etiquetas_dataset.append(0)\n",
        "\n",
        "file = '/content/drive/MyDrive/PIA/Numeros/N1' \n",
        "for x in glob.iglob(f'{file}/*.png'):\n",
        "  test_image = cv2.imread(x, cv2.IMREAD_GRAYSCALE )\n",
        "  img_resized = cv2.resize(test_image, (28,28,), interpolation=cv2.INTER_LINEAR )\n",
        "  img_resized = cv2.bitwise_not(img_resized)\n",
        "  imagenes_dataset.append(img_resized)\n",
        "  etiquetas_dataset.append(1)\n",
        "\n",
        "file = '/content/drive/MyDrive/PIA/Numeros/N2' \n",
        "for x in glob.iglob(f'{file}/*.png'):\n",
        "  test_image = cv2.imread(x, cv2.IMREAD_GRAYSCALE )\n",
        "  img_resized = cv2.resize(test_image, (28,28,), interpolation=cv2.INTER_LINEAR )\n",
        "  img_resized = cv2.bitwise_not(img_resized)\n",
        "  imagenes_dataset.append(img_resized)\n",
        "  etiquetas_dataset.append(2)\n",
        "\n",
        "file = '/content/drive/MyDrive/PIA/Numeros/N3' \n",
        "for x in glob.iglob(f'{file}/*.png'):\n",
        "  test_image = cv2.imread(x, cv2.IMREAD_GRAYSCALE )\n",
        "  img_resized = cv2.resize(test_image, (28,28,), interpolation=cv2.INTER_LINEAR )\n",
        "  img_resized = cv2.bitwise_not(img_resized)\n",
        "  imagenes_dataset.append(img_resized)\n",
        "  etiquetas_dataset.append(3)\n",
        "\n",
        "file = '/content/drive/MyDrive/PIA/Numeros/N4' \n",
        "for x in glob.iglob(f'{file}/*.png'):\n",
        "  test_image = cv2.imread(x, cv2.IMREAD_GRAYSCALE )\n",
        "  img_resized = cv2.resize(test_image, (28,28,), interpolation=cv2.INTER_LINEAR )\n",
        "  img_resized = cv2.bitwise_not(img_resized)\n",
        "  imagenes_dataset.append(img_resized)\n",
        "  etiquetas_dataset.append(4)\n",
        "\n",
        "file = '/content/drive/MyDrive/PIA/Numeros/N5' \n",
        "for x in glob.iglob(f'{file}/*.png'):\n",
        "  test_image = cv2.imread(x, cv2.IMREAD_GRAYSCALE )\n",
        "  img_resized = cv2.resize(test_image, (28,28,), interpolation=cv2.INTER_LINEAR )\n",
        "  img_resized = cv2.bitwise_not(img_resized)\n",
        "  imagenes_dataset.append(img_resized)\n",
        "  etiquetas_dataset.append(5)\n",
        "\n",
        "file = '/content/drive/MyDrive/PIA/Numeros/N6' \n",
        "for x in glob.iglob(f'{file}/*.png'):\n",
        "  test_image = cv2.imread(x, cv2.IMREAD_GRAYSCALE )\n",
        "  img_resized = cv2.resize(test_image, (28,28,), interpolation=cv2.INTER_LINEAR )\n",
        "  img_resized = cv2.bitwise_not(img_resized)\n",
        "  imagenes_dataset.append(img_resized)\n",
        "  etiquetas_dataset.append(6)\n",
        "\n",
        "file = '/content/drive/MyDrive/PIA/Numeros/N7' \n",
        "for x in glob.iglob(f'{file}/*.png'):\n",
        "  test_image = cv2.imread(x, cv2.IMREAD_GRAYSCALE )\n",
        "  img_resized = cv2.resize(test_image, (28,28,), interpolation=cv2.INTER_LINEAR )\n",
        "  img_resized = cv2.bitwise_not(img_resized)\n",
        "  imagenes_dataset.append(img_resized)\n",
        "  etiquetas_dataset.append(7)\n",
        "\n",
        "file = '/content/drive/MyDrive/PIA/Numeros/N8' \n",
        "for x in glob.iglob(f'{file}/*.png'):\n",
        "  test_image = cv2.imread(x, cv2.IMREAD_GRAYSCALE )\n",
        "  img_resized = cv2.resize(test_image, (28,28,), interpolation=cv2.INTER_LINEAR )\n",
        "  img_resized = cv2.bitwise_not(img_resized)\n",
        "  imagenes_dataset.append(img_resized)\n",
        "  etiquetas_dataset.append(8)\n",
        "\n",
        "file = '/content/drive/MyDrive/PIA/Numeros/N9' \n",
        "for x in glob.iglob(f'{file}/*.png'):\n",
        "  test_image = cv2.imread(x, cv2.IMREAD_GRAYSCALE )\n",
        "  img_resized = cv2.resize(test_image, (28,28,), interpolation=cv2.INTER_LINEAR )\n",
        "  img_resized = cv2.bitwise_not(img_resized)\n",
        "  imagenes_dataset.append(img_resized)\n",
        "  etiquetas_dataset.append(9)"
      ],
      "metadata": {
        "id": "9YPKDUEtwned"
      },
      "execution_count": 3,
      "outputs": []
    },
    {
      "cell_type": "code",
      "source": [
        "len(imagenes_dataset)"
      ],
      "metadata": {
        "id": "FyC8O5b-woGO",
        "colab": {
          "base_uri": "https://localhost:8080/"
        },
        "outputId": "9996c6a8-56af-4b02-b4e3-07d071390dc9"
      },
      "execution_count": 4,
      "outputs": [
        {
          "output_type": "execute_result",
          "data": {
            "text/plain": [
              "600"
            ]
          },
          "metadata": {},
          "execution_count": 4
        }
      ]
    },
    {
      "cell_type": "code",
      "source": [
        "len(etiquetas_dataset)"
      ],
      "metadata": {
        "id": "BfaHqTjHwouL",
        "colab": {
          "base_uri": "https://localhost:8080/"
        },
        "outputId": "6542f126-f1e4-4889-c695-2fca5bd61f72"
      },
      "execution_count": 5,
      "outputs": [
        {
          "output_type": "execute_result",
          "data": {
            "text/plain": [
              "600"
            ]
          },
          "metadata": {},
          "execution_count": 5
        }
      ]
    },
    {
      "cell_type": "code",
      "source": [
        "class_name= ['0', '1', '2', '3', '4','5', '6', '7', '8', '9']"
      ],
      "metadata": {
        "id": "4JjlyENewpb8"
      },
      "execution_count": 6,
      "outputs": []
    },
    {
      "cell_type": "code",
      "source": [
        "X=np.array(imagenes_dataset)\n",
        "Y=np.array(etiquetas_dataset)"
      ],
      "metadata": {
        "id": "vCA0phWpwq5z"
      },
      "execution_count": 7,
      "outputs": []
    },
    {
      "cell_type": "code",
      "source": [
        "X_images,Y_images,X_labels,Y_labels=train_test_split(X,Y,test_size=0.2,random_state=0)"
      ],
      "metadata": {
        "id": "ErmPChqWwrb1"
      },
      "execution_count": 8,
      "outputs": []
    },
    {
      "cell_type": "code",
      "source": [
        "X_images.shape"
      ],
      "metadata": {
        "id": "HSVqpkvWwsCC",
        "colab": {
          "base_uri": "https://localhost:8080/"
        },
        "outputId": "2a2ce65b-2d70-4209-d343-e631b6b7030b"
      },
      "execution_count": 9,
      "outputs": [
        {
          "output_type": "execute_result",
          "data": {
            "text/plain": [
              "(480, 28, 28)"
            ]
          },
          "metadata": {},
          "execution_count": 9
        }
      ]
    },
    {
      "cell_type": "code",
      "source": [
        "X_labels"
      ],
      "metadata": {
        "id": "LHtvDRw7wsqV",
        "colab": {
          "base_uri": "https://localhost:8080/"
        },
        "outputId": "22743195-b464-4edb-d022-c1a08c325c90"
      },
      "execution_count": 10,
      "outputs": [
        {
          "output_type": "execute_result",
          "data": {
            "text/plain": [
              "array([1, 6, 0, 1, 6, 6, 8, 9, 9, 7, 3, 3, 9, 5, 2, 9, 4, 4, 3, 8, 2, 8,\n",
              "       1, 4, 8, 9, 1, 6, 6, 2, 0, 4, 7, 3, 1, 6, 6, 0, 3, 1, 2, 1, 6, 1,\n",
              "       9, 9, 8, 5, 6, 6, 3, 7, 0, 3, 9, 4, 5, 7, 8, 2, 6, 9, 7, 4, 9, 8,\n",
              "       3, 6, 4, 2, 9, 2, 4, 1, 0, 1, 3, 9, 5, 6, 3, 9, 5, 5, 2, 9, 5, 5,\n",
              "       6, 6, 2, 1, 4, 1, 6, 4, 1, 8, 2, 8, 7, 6, 6, 5, 5, 9, 8, 6, 2, 5,\n",
              "       0, 7, 2, 9, 8, 9, 7, 7, 2, 5, 3, 1, 1, 0, 2, 0, 0, 5, 0, 3, 1, 4,\n",
              "       5, 6, 7, 5, 0, 1, 7, 4, 4, 3, 5, 4, 2, 0, 5, 5, 8, 2, 2, 2, 0, 7,\n",
              "       9, 4, 2, 0, 7, 5, 3, 1, 0, 7, 7, 5, 8, 0, 2, 6, 2, 5, 9, 0, 4, 4,\n",
              "       7, 9, 4, 3, 9, 2, 1, 7, 5, 9, 9, 2, 9, 3, 7, 8, 6, 3, 3, 1, 7, 8,\n",
              "       2, 1, 7, 1, 1, 8, 9, 8, 9, 1, 6, 7, 6, 7, 3, 2, 2, 0, 9, 6, 5, 4,\n",
              "       6, 1, 0, 5, 3, 9, 2, 4, 4, 6, 8, 1, 9, 7, 7, 2, 8, 2, 5, 6, 8, 7,\n",
              "       6, 2, 8, 4, 6, 6, 8, 8, 4, 3, 2, 0, 1, 4, 0, 5, 5, 1, 3, 6, 9, 9,\n",
              "       7, 6, 3, 5, 8, 4, 1, 4, 0, 7, 0, 8, 8, 8, 5, 9, 3, 0, 8, 9, 2, 8,\n",
              "       8, 2, 3, 1, 9, 8, 8, 3, 8, 3, 3, 9, 3, 3, 4, 1, 0, 6, 3, 5, 7, 3,\n",
              "       2, 5, 1, 2, 4, 3, 0, 4, 8, 1, 7, 7, 5, 0, 4, 5, 2, 4, 3, 6, 8, 2,\n",
              "       1, 7, 1, 6, 7, 8, 0, 1, 2, 6, 2, 0, 8, 5, 1, 8, 7, 8, 2, 3, 7, 4,\n",
              "       5, 4, 5, 5, 9, 4, 7, 6, 8, 8, 0, 5, 4, 8, 4, 6, 3, 1, 0, 8, 2, 4,\n",
              "       4, 1, 9, 7, 3, 6, 9, 9, 4, 4, 9, 3, 0, 1, 5, 4, 0, 6, 0, 1, 0, 0,\n",
              "       0, 6, 3, 2, 2, 1, 6, 2, 0, 8, 6, 8, 6, 3, 6, 6, 4, 4, 3, 1, 9, 2,\n",
              "       5, 6, 3, 2, 3, 2, 0, 5, 3, 1, 6, 1, 1, 7, 1, 4, 0, 5, 4, 9, 7, 0,\n",
              "       6, 5, 4, 8, 9, 0, 9, 2, 0, 3, 7, 8, 2, 4, 9, 9, 4, 4, 7, 2, 2, 1,\n",
              "       7, 7, 1, 1, 8, 2, 1, 9, 8, 5, 6, 7, 1, 4, 0, 5, 3, 9])"
            ]
          },
          "metadata": {},
          "execution_count": 10
        }
      ]
    },
    {
      "cell_type": "code",
      "source": [
        "mnist = keras.datasets.mnist\n",
        "\n",
        "(train_images, train_labels),(test_images, test_labels) = mnist.load_data()"
      ],
      "metadata": {
        "id": "sjlRaF6nwt9y",
        "colab": {
          "base_uri": "https://localhost:8080/"
        },
        "outputId": "f717735b-27b3-407f-94bd-b387d60e2722"
      },
      "execution_count": 11,
      "outputs": [
        {
          "output_type": "stream",
          "name": "stdout",
          "text": [
            "Downloading data from https://storage.googleapis.com/tensorflow/tf-keras-datasets/mnist.npz\n",
            "11490434/11490434 [==============================] - 0s 0us/step\n"
          ]
        }
      ]
    },
    {
      "cell_type": "code",
      "source": [
        "class_names=[0,1,2,3,4,5,6,7,8,9]"
      ],
      "metadata": {
        "id": "g-SMMblq6TiM"
      },
      "execution_count": 12,
      "outputs": []
    },
    {
      "cell_type": "code",
      "source": [
        "train_images.shape"
      ],
      "metadata": {
        "colab": {
          "base_uri": "https://localhost:8080/"
        },
        "id": "B8oTxiye6UAK",
        "outputId": "78ce5216-80dd-4c16-8a87-8eb726295aee"
      },
      "execution_count": 13,
      "outputs": [
        {
          "output_type": "execute_result",
          "data": {
            "text/plain": [
              "(60000, 28, 28)"
            ]
          },
          "metadata": {},
          "execution_count": 13
        }
      ]
    },
    {
      "cell_type": "code",
      "source": [
        "len(train_labels)"
      ],
      "metadata": {
        "colab": {
          "base_uri": "https://localhost:8080/"
        },
        "id": "RaBIhZE56UcH",
        "outputId": "c859d2e3-1dad-41d1-f8db-5d6b01ab3128"
      },
      "execution_count": 14,
      "outputs": [
        {
          "output_type": "execute_result",
          "data": {
            "text/plain": [
              "60000"
            ]
          },
          "metadata": {},
          "execution_count": 14
        }
      ]
    },
    {
      "cell_type": "code",
      "source": [
        "train_labels"
      ],
      "metadata": {
        "colab": {
          "base_uri": "https://localhost:8080/"
        },
        "id": "oZ6OjSvQ6U__",
        "outputId": "58c223ce-158a-4faf-c099-04f40766ccfc"
      },
      "execution_count": 15,
      "outputs": [
        {
          "output_type": "execute_result",
          "data": {
            "text/plain": [
              "array([5, 0, 4, ..., 5, 6, 8], dtype=uint8)"
            ]
          },
          "metadata": {},
          "execution_count": 15
        }
      ]
    },
    {
      "cell_type": "code",
      "source": [
        "X.shape"
      ],
      "metadata": {
        "colab": {
          "base_uri": "https://localhost:8080/"
        },
        "id": "mdOtjGjV6VVE",
        "outputId": "196d3ff7-8b65-42f6-b6fa-7b00e92f4914"
      },
      "execution_count": 16,
      "outputs": [
        {
          "output_type": "execute_result",
          "data": {
            "text/plain": [
              "(600, 28, 28)"
            ]
          },
          "metadata": {},
          "execution_count": 16
        }
      ]
    },
    {
      "cell_type": "code",
      "source": [
        "len(Y)"
      ],
      "metadata": {
        "colab": {
          "base_uri": "https://localhost:8080/"
        },
        "id": "4AGimrW560KL",
        "outputId": "c7cd74f5-1f18-441e-a10f-e16b87cf4918"
      },
      "execution_count": 17,
      "outputs": [
        {
          "output_type": "execute_result",
          "data": {
            "text/plain": [
              "600"
            ]
          },
          "metadata": {},
          "execution_count": 17
        }
      ]
    },
    {
      "cell_type": "code",
      "source": [
        "plt.figure()\n",
        "plt.imshow(X[126])\n",
        "plt.colorbar()\n",
        "plt.grid(False)\n",
        "plt.show()"
      ],
      "metadata": {
        "colab": {
          "base_uri": "https://localhost:8080/",
          "height": 265
        },
        "id": "36rrOZLv60ZG",
        "outputId": "278b0c64-8d3c-4eb6-cfa5-fd4b9b1ab4eb"
      },
      "execution_count": 24,
      "outputs": [
        {
          "output_type": "display_data",
          "data": {
            "text/plain": [
              "<Figure size 432x288 with 2 Axes>"
            ],
            "image/png": "[encoded data removed]"
          },
          "metadata": {
            "needs_background": "light"
          }
        }
      ]
    },
    {
      "cell_type": "code",
      "source": [
        "train_images = train_images / 255.0\n",
        "\n",
        "test_images = test_images / 255.0"
      ],
      "metadata": {
        "id": "UakPf7Eo60mn"
      },
      "execution_count": 25,
      "outputs": []
    },
    {
      "cell_type": "code",
      "source": [
        "plt.figure(figsize=(10,10))\n",
        "for i in range(25):\n",
        "    plt.subplot(5,5,i+1)\n",
        "    plt.xticks([])\n",
        "    plt.yticks([])\n",
        "    plt.grid(False)\n",
        "    plt.imshow(train_images[i], cmap=plt.cm.binary)\n",
        "    plt.xlabel(class_names[train_labels[i]])\n",
        "plt.show()"
      ],
      "metadata": {
        "colab": {
          "base_uri": "https://localhost:8080/",
          "height": 589
        },
        "id": "Gowk_Jd_602S",
        "outputId": "7f4e2244-7aeb-4570-9c44-fd478dee0a9d"
      },
      "execution_count": 26,
      "outputs": [
        {
          "output_type": "display_data",
          "data": {
            "text/plain": [
              "<Figure size 720x720 with 25 Axes>"
            ],
            "image/png": "[encoded data removed]"
          },
          "metadata": {}
        }
      ]
    },
    {
      "cell_type": "markdown",
      "source": [
        "## Estructura y entrenamiento de Red Neuronal Artificial Convolusional (RNAC)"
      ],
      "metadata": {
        "id": "eK9clGGKt7gr"
      }
    },
    {
      "cell_type": "code",
      "source": [
        "\n",
        "model = models.Sequential()\n",
        "model.add(layers.Conv2D(32, (3, 3), activation='relu', input_shape=(28, 28,1)))\n",
        "model.add(layers.MaxPooling2D((2, 2)))\n",
        "model.add(layers.Conv2D(64, (3, 3), activation='relu'))\n",
        "model.add(layers.MaxPooling2D((2, 2)))\n",
        "model.add(layers.Conv2D(64, (3, 3), activation='relu'))"
      ],
      "metadata": {
        "id": "qaOwDxnS61Ev"
      },
      "execution_count": 27,
      "outputs": []
    },
    {
      "cell_type": "code",
      "source": [
        "model.add(layers.Flatten())\n",
        "model.add(layers.Dense(64, activation='relu'))\n",
        "model.add(layers.Dense(10, activation = 'softmax'))\n"
      ],
      "metadata": {
        "id": "5IqgMc_g61Tk"
      },
      "execution_count": 28,
      "outputs": []
    },
    {
      "cell_type": "code",
      "source": [
        "model.compile(optimizer='adam',\n",
        "              loss='sparse_categorical_crossentropy',\n",
        "              metrics=['accuracy'])\n",
        "history = model.fit(train_images, train_labels, epochs=10, \n",
        "                    validation_data=(test_images, test_labels))"
      ],
      "metadata": {
        "colab": {
          "base_uri": "https://localhost:8080/"
        },
        "id": "gXyFO-Fh7EAM",
        "outputId": "ee21cfc9-d171-4aaa-b44f-3da7d1d68248"
      },
      "execution_count": 29,
      "outputs": [
        {
          "output_type": "stream",
          "name": "stdout",
          "text": [
            "Epoch 1/10\n",
            "1875/1875 [==============================] - 39s 21ms/step - loss: 0.1473 - accuracy: 0.9536 - val_loss: 0.0608 - val_accuracy: 0.9822\n",
            "Epoch 2/10\n",
            "1875/1875 [==============================] - 39s 21ms/step - loss: 0.0475 - accuracy: 0.9852 - val_loss: 0.0385 - val_accuracy: 0.9865\n",
            "Epoch 3/10\n",
            "1875/1875 [==============================] - 38s 20ms/step - loss: 0.0336 - accuracy: 0.9895 - val_loss: 0.0294 - val_accuracy: 0.9901\n",
            "Epoch 4/10\n",
            "1875/1875 [==============================] - 40s 21ms/step - loss: 0.0258 - accuracy: 0.9921 - val_loss: 0.0321 - val_accuracy: 0.9890\n",
            "Epoch 5/10\n",
            "1875/1875 [==============================] - 38s 20ms/step - loss: 0.0206 - accuracy: 0.9936 - val_loss: 0.0349 - val_accuracy: 0.9899\n",
            "Epoch 6/10\n",
            "1875/1875 [==============================] - 39s 21ms/step - loss: 0.0162 - accuracy: 0.9944 - val_loss: 0.0340 - val_accuracy: 0.9895\n",
            "Epoch 7/10\n",
            "1875/1875 [==============================] - 39s 21ms/step - loss: 0.0128 - accuracy: 0.9958 - val_loss: 0.0319 - val_accuracy: 0.9919\n",
            "Epoch 8/10\n",
            "1875/1875 [==============================] - 39s 21ms/step - loss: 0.0111 - accuracy: 0.9964 - val_loss: 0.0311 - val_accuracy: 0.9916\n",
            "Epoch 9/10\n",
            "1875/1875 [==============================] - 39s 21ms/step - loss: 0.0115 - accuracy: 0.9963 - val_loss: 0.0311 - val_accuracy: 0.9914\n",
            "Epoch 10/10\n",
            "1875/1875 [==============================] - 39s 21ms/step - loss: 0.0082 - accuracy: 0.9970 - val_loss: 0.0358 - val_accuracy: 0.9909\n"
          ]
        }
      ]
    },
    {
      "cell_type": "code",
      "source": [
        "predictions = model.predict(X)"
      ],
      "metadata": {
        "colab": {
          "base_uri": "https://localhost:8080/"
        },
        "id": "f6Elem_97EdH",
        "outputId": "a78a0322-822b-4901-efaa-3db861bf29d6"
      },
      "execution_count": 30,
      "outputs": [
        {
          "output_type": "stream",
          "name": "stdout",
          "text": [
            "19/19 [==============================] - 0s 7ms/step\n"
          ]
        }
      ]
    },
    {
      "cell_type": "code",
      "source": [
        "predictions[126]"
      ],
      "metadata": {
        "colab": {
          "base_uri": "https://localhost:8080/"
        },
        "id": "5JRs-w7p7EpY",
        "outputId": "c11ea69b-6b0c-4999-d46d-c23af2ab714b"
      },
      "execution_count": 32,
      "outputs": [
        {
          "output_type": "execute_result",
          "data": {
            "text/plain": [
              "array([0.        , 0.        , 0.99999994, 0.        , 0.        ,\n",
              "       0.        , 0.        , 0.        , 0.        , 0.        ],\n",
              "      dtype=float32)"
            ]
          },
          "metadata": {},
          "execution_count": 32
        }
      ]
    },
    {
      "cell_type": "code",
      "source": [
        "np.argmax(predictions[126])"
      ],
      "metadata": {
        "colab": {
          "base_uri": "https://localhost:8080/"
        },
        "id": "hw6Tklez7E2u",
        "outputId": "c527f305-3467-4fc6-a880-f7b993e1d469"
      },
      "execution_count": 34,
      "outputs": [
        {
          "output_type": "execute_result",
          "data": {
            "text/plain": [
              "2"
            ]
          },
          "metadata": {},
          "execution_count": 34
        }
      ]
    },
    {
      "cell_type": "code",
      "source": [
        "Y[126]"
      ],
      "metadata": {
        "colab": {
          "base_uri": "https://localhost:8080/"
        },
        "id": "Kf5KmL6f7Hn8",
        "outputId": "7dfe3c06-b079-469b-ca5a-dde0646ee6b2"
      },
      "execution_count": 35,
      "outputs": [
        {
          "output_type": "execute_result",
          "data": {
            "text/plain": [
              "2"
            ]
          },
          "metadata": {},
          "execution_count": 35
        }
      ]
    },
    {
      "cell_type": "code",
      "source": [
        "def plot_image(i, predictions_array, true_label, img):\n",
        "  predictions_array, true_label, img = predictions_array, true_label[i], img[i]\n",
        "  plt.grid(False)\n",
        "  plt.xticks([])\n",
        "  plt.yticks([])\n",
        "\n",
        "  plt.imshow(img, cmap=plt.cm.binary)\n",
        "\n",
        "  predicted_label = np.argmax(predictions_array)\n",
        "  if predicted_label == true_label:\n",
        "    color = 'blue'\n",
        "  else:\n",
        "    color = 'red'\n",
        "\n",
        "  plt.xlabel(\"{} {:2.0f}% ({})\".format(class_name[predicted_label],\n",
        "                                100*np.max(predictions_array),\n",
        "                                class_name[true_label]),\n",
        "                                color=color)\n",
        "\n",
        "def plot_value_array(i, predictions_array, true_label):\n",
        "  predictions_array, true_label = predictions_array, true_label[i]\n",
        "  plt.grid(False)\n",
        "  plt.xticks(range(10))\n",
        "  plt.yticks([])\n",
        "  thisplot = plt.bar(range(10), predictions_array, color=\"#777777\")\n",
        "  plt.ylim([0, 1])\n",
        "  predicted_label = np.argmax(predictions_array)\n",
        "\n",
        "  thisplot[predicted_label].set_color('red')\n",
        "  thisplot[true_label].set_color('blue')"
      ],
      "metadata": {
        "id": "p2-JoRtl7H3S"
      },
      "execution_count": 36,
      "outputs": []
    },
    {
      "cell_type": "code",
      "source": [
        "i = 7\n",
        "plt.figure(figsize=(6,3))\n",
        "plt.subplot(1,2,1)\n",
        "plot_image(i, predictions[i], Y, X)\n",
        "plt.subplot(1,2,2)\n",
        "plot_value_array(i, predictions[i], Y)\n",
        "plt.show()"
      ],
      "metadata": {
        "colab": {
          "base_uri": "https://localhost:8080/",
          "height": 211
        },
        "id": "uKrTDHGj7IFs",
        "outputId": "d59c9435-bc74-4a93-bfe6-c83bcfc4b9c9"
      },
      "execution_count": 38,
      "outputs": [
        {
          "output_type": "display_data",
          "data": {
            "text/plain": [
              "<Figure size 432x216 with 2 Axes>"
            ],
            "image/png": "[encoded data removed]"
          },
          "metadata": {
            "needs_background": "light"
          }
        }
      ]
    },
    {
      "cell_type": "code",
      "source": [
        "i = 68\n",
        "plt.figure(figsize=(6,3))\n",
        "plt.subplot(1,2,1)\n",
        "plot_image(i, predictions[i], Y, X)\n",
        "plt.subplot(1,2,2)\n",
        "plot_value_array(i, predictions[i], Y)\n",
        "plt.show()"
      ],
      "metadata": {
        "colab": {
          "base_uri": "https://localhost:8080/",
          "height": 211
        },
        "id": "R3yoPcI87IRS",
        "outputId": "b58d5344-b3e5-4e80-8462-ea8f19e788b4"
      },
      "execution_count": 41,
      "outputs": [
        {
          "output_type": "display_data",
          "data": {
            "text/plain": [
              "<Figure size 432x216 with 2 Axes>"
            ],
            "image/png": "[encoded data removed]"
          },
          "metadata": {
            "needs_background": "light"
          }
        }
      ]
    },
    {
      "cell_type": "code",
      "source": [
        "i = 126\n",
        "plt.figure(figsize=(6,3))\n",
        "plt.subplot(1,2,1)\n",
        "plot_image(i, predictions[i], Y, X)\n",
        "plt.subplot(1,2,2)\n",
        "plot_value_array(i, predictions[i], Y)\n",
        "plt.show()"
      ],
      "metadata": {
        "colab": {
          "base_uri": "https://localhost:8080/",
          "height": 211
        },
        "id": "gZzxvSuQ7IgI",
        "outputId": "16f79c6f-a5a6-4b08-eb3a-fcd164f937d9"
      },
      "execution_count": 45,
      "outputs": [
        {
          "output_type": "display_data",
          "data": {
            "text/plain": [
              "<Figure size 432x216 with 2 Axes>"
            ],
            "image/png": "[encoded data removed]"
          },
          "metadata": {
            "needs_background": "light"
          }
        }
      ]
    },
    {
      "cell_type": "code",
      "source": [
        "i = 180\n",
        "plt.figure(figsize=(6,3))\n",
        "plt.subplot(1,2,1)\n",
        "plot_image(i, predictions[i], Y, X)\n",
        "plt.subplot(1,2,2)\n",
        "plot_value_array(i, predictions[i], Y)\n",
        "plt.show()"
      ],
      "metadata": {
        "colab": {
          "base_uri": "https://localhost:8080/",
          "height": 211
        },
        "id": "HP-hlFMD7IuK",
        "outputId": "c52920fd-97af-4ce0-c7a2-34bf53d407e5"
      },
      "execution_count": 46,
      "outputs": [
        {
          "output_type": "display_data",
          "data": {
            "text/plain": [
              "<Figure size 432x216 with 2 Axes>"
            ],
            "image/png": "[encoded data removed]"
          },
          "metadata": {
            "needs_background": "light"
          }
        }
      ]
    },
    {
      "cell_type": "code",
      "source": [
        "i = 240\n",
        "plt.figure(figsize=(6,3))\n",
        "plt.subplot(1,2,1)\n",
        "plot_image(i, predictions[i], Y, X)\n",
        "plt.subplot(1,2,2)\n",
        "plot_value_array(i, predictions[i], Y)\n",
        "plt.show()"
      ],
      "metadata": {
        "colab": {
          "base_uri": "https://localhost:8080/",
          "height": 211
        },
        "id": "uwVwwNQh7I8t",
        "outputId": "fc50a34c-84ef-4881-dd39-75648fe50173"
      },
      "execution_count": 49,
      "outputs": [
        {
          "output_type": "display_data",
          "data": {
            "text/plain": [
              "<Figure size 432x216 with 2 Axes>"
            ],
            "image/png": "[encoded data removed]"
          },
          "metadata": {
            "needs_background": "light"
          }
        }
      ]
    },
    {
      "cell_type": "code",
      "source": [
        "i = 300\n",
        "plt.figure(figsize=(6,3))\n",
        "plt.subplot(1,2,1)\n",
        "plot_image(i, predictions[i], Y, X)\n",
        "plt.subplot(1,2,2)\n",
        "plot_value_array(i, predictions[i], Y)\n",
        "plt.show()"
      ],
      "metadata": {
        "colab": {
          "base_uri": "https://localhost:8080/",
          "height": 211
        },
        "id": "YvWL_-TM7XFS",
        "outputId": "2d5852b5-5b0b-4c4c-cfa0-c3edc4928894"
      },
      "execution_count": 50,
      "outputs": [
        {
          "output_type": "display_data",
          "data": {
            "text/plain": [
              "<Figure size 432x216 with 2 Axes>"
            ],
            "image/png": "[encoded data removed]"
          },
          "metadata": {
            "needs_background": "light"
          }
        }
      ]
    },
    {
      "cell_type": "code",
      "source": [
        "i = 361\n",
        "plt.figure(figsize=(6,3))\n",
        "plt.subplot(1,2,1)\n",
        "plot_image(i, predictions[i], Y, X)\n",
        "plt.subplot(1,2,2)\n",
        "plot_value_array(i, predictions[i], Y)\n",
        "plt.show()"
      ],
      "metadata": {
        "colab": {
          "base_uri": "https://localhost:8080/",
          "height": 211
        },
        "id": "DBM8ZF9W7XTN",
        "outputId": "7e5fc953-74da-4e74-e2ee-8c96e1abeffc"
      },
      "execution_count": 52,
      "outputs": [
        {
          "output_type": "display_data",
          "data": {
            "text/plain": [
              "<Figure size 432x216 with 2 Axes>"
            ],
            "image/png": "[encoded data removed]"
          },
          "metadata": {
            "needs_background": "light"
          }
        }
      ]
    },
    {
      "cell_type": "code",
      "source": [
        "i = 420\n",
        "plt.figure(figsize=(6,3))\n",
        "plt.subplot(1,2,1)\n",
        "plot_image(i, predictions[i], Y, X)\n",
        "plt.subplot(1,2,2)\n",
        "plot_value_array(i, predictions[i], Y)\n",
        "plt.show()"
      ],
      "metadata": {
        "colab": {
          "base_uri": "https://localhost:8080/",
          "height": 211
        },
        "id": "g4KSbgIN7XeH",
        "outputId": "47dec63d-1856-4377-841a-ec9a3618c7c6"
      },
      "execution_count": 55,
      "outputs": [
        {
          "output_type": "display_data",
          "data": {
            "text/plain": [
              "<Figure size 432x216 with 2 Axes>"
            ],
            "image/png": "[encoded data removed]"
          },
          "metadata": {
            "needs_background": "light"
          }
        }
      ]
    },
    {
      "cell_type": "code",
      "source": [
        "i =480\n",
        "plt.figure(figsize=(6,3))\n",
        "plt.subplot(1,2,1)\n",
        "plot_image(i, predictions[i], Y, X)\n",
        "plt.subplot(1,2,2)\n",
        "plot_value_array(i, predictions[i], Y)\n",
        "plt.show()"
      ],
      "metadata": {
        "colab": {
          "base_uri": "https://localhost:8080/",
          "height": 211
        },
        "id": "AszJDNjn7Xo4",
        "outputId": "146b435d-eec6-4c8c-f721-f6d7cbb19f24"
      },
      "execution_count": 56,
      "outputs": [
        {
          "output_type": "display_data",
          "data": {
            "text/plain": [
              "<Figure size 432x216 with 2 Axes>"
            ],
            "image/png": "[encoded data removed]"
          },
          "metadata": {
            "needs_background": "light"
          }
        }
      ]
    },
    {
      "cell_type": "code",
      "source": [
        "i = 555\n",
        "plt.figure(figsize=(6,3))\n",
        "plt.subplot(1,2,1)\n",
        "plot_image(i, predictions[i], Y, X)\n",
        "plt.subplot(1,2,2)\n",
        "plot_value_array(i, predictions[i], Y)\n",
        "plt.show()"
      ],
      "metadata": {
        "colab": {
          "base_uri": "https://localhost:8080/",
          "height": 211
        },
        "id": "zij0Mcrz7Xzz",
        "outputId": "1eb2f29d-582a-4156-8be2-c2b91cddc238"
      },
      "execution_count": 57,
      "outputs": [
        {
          "output_type": "display_data",
          "data": {
            "text/plain": [
              "<Figure size 432x216 with 2 Axes>"
            ],
            "image/png": "[encoded data removed]"
          },
          "metadata": {
            "needs_background": "light"
          }
        }
      ]
    },
    {
      "cell_type": "code",
      "source": [
        "plt.plot(history.history['accuracy'], label='accuracy')\n",
        "plt.plot(history.history['val_accuracy'], label = 'val_accuracy')\n",
        "plt.xlabel('Epoch')\n",
        "plt.ylabel('Accuracy')\n",
        "plt.ylim([0.9, 1])\n",
        "plt.xlim([-1, 10])\n",
        "plt.legend(loc='lower right')\n",
        "\n",
        "test_loss, test_acc = model.evaluate(X,Y, verbose=2)"
      ],
      "metadata": {
        "colab": {
          "base_uri": "https://localhost:8080/",
          "height": 300
        },
        "id": "P1w7T07i7X-W",
        "outputId": "f8db2537-2be1-4405-a6a3-d2d55933b4e7"
      },
      "execution_count": 62,
      "outputs": [
        {
          "output_type": "stream",
          "name": "stdout",
          "text": [
            "19/19 - 0s - loss: 519.7922 - accuracy: 0.6817 - 300ms/epoch - 16ms/step\n"
          ]
        },
        {
          "output_type": "display_data",
          "data": {
            "text/plain": [
              "<Figure size 432x288 with 1 Axes>"
            ],
            "image/png": "[encoded data removed]"
          },
          "metadata": {
            "needs_background": "light"
          }
        }
      ]
    }
  ]
}