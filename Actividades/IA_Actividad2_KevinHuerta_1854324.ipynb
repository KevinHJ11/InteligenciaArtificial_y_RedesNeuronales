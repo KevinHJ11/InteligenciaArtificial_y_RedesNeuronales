{
  "nbformat": 4,
  "nbformat_minor": 0,
  "metadata": {
    "colab": {
      "provenance": [],
      "authorship_tag": "ABX9TyN8p/h2HSHx6G5CWVSJM2se",
      "include_colab_link": true
    },
    "kernelspec": {
      "name": "python3",
      "display_name": "Python 3"
    },
    "language_info": {
      "name": "python"
    }
  },
  "cells": [
    {
      "cell_type": "markdown",
      "metadata": {
        "id": "view-in-github",
        "colab_type": "text"
      },
      "source": [
        "<a href=\"https://colab.research.google.com/github/KevinHJ11/InteligenciaArtificial_y_RedesNeuronales/blob/main/IA_Actividad2_KevinHuerta_1854324.ipynb\" target=\"_parent\"><img src=\"https://colab.research.google.com/assets/colab-badge.svg\" alt=\"Open In Colab\"/></a>"
      ]
    },
    {
      "cell_type": "markdown",
      "source": [
        "**Actividad 2:** Ejercicios en Python 1\n",
        "\n",
        "**Nombre:**     Kevin Orlando Huerta Jaramillo \n",
        "\n",
        "**Matricula:** 1854324\n",
        "\n",
        "**Hora:**       N1 "
      ],
      "metadata": {
        "id": "_tWg8lc5aE_A"
      }
    },
    {
      "cell_type": "markdown",
      "source": [
        "**1:Escribe un programa que le pida al usuario por su nombre y que lo salude con su nombre, excepto si se llama “Ana”, “Juan”, y “Pedro”.**"
      ],
      "metadata": {
        "id": "3Mm-QUiATb5W"
      }
    },
    {
      "cell_type": "code",
      "source": [
        "\n",
        "nmb = input(\"Nombre: \")\n",
        "a = \"Ana\"\n",
        "b = \"Juan\"\n",
        "c = \"Pedro\"\n",
        "d = \"ana\"\n",
        "e = \"juan\"\n",
        "f = \"pedro\"\n",
        "g = \"Ana \"\n",
        "h = \"Juan \"\n",
        "i = \"Pedro \"\n",
        "j = \"ana \"\n",
        "k = \"juan \"\n",
        "l = \"pedro \"\n",
        "\n",
        "if nmb != a and nmb != b and nmb != c and nmb != d and nmb != e and nmb != f and nmb != g and nmb != h and nmb != i and nmb != j and nmb != k and nmb != l:\n",
        "   print(\"Hola \" + nmb)\n"
      ],
      "metadata": {
        "colab": {
          "base_uri": "https://localhost:8080/"
        },
        "id": "7fpGUKcW6jav",
        "outputId": "e830c493-2680-49b0-b7cf-5a8e254bbad4"
      },
      "execution_count": null,
      "outputs": [
        {
          "output_type": "stream",
          "name": "stdout",
          "text": [
            "Nombre: Kevin\n",
            "Hola Kevin\n"
          ]
        }
      ]
    },
    {
      "cell_type": "markdown",
      "source": [
        "**2:Escribe una función que regrese el último elemento de una lista y que revierta el orden de la lista e imprima la lista revertida.**"
      ],
      "metadata": {
        "id": "fQBtOkNybkDl"
      }
    },
    {
      "cell_type": "code",
      "source": [
        "\n",
        "def funcion(lista):\n",
        "  print(lista[-1])\n",
        "  for x in range(len(lista)):\n",
        "    print(lista[x])"
      ],
      "metadata": {
        "id": "pzHaNdQ9hpBw"
      },
      "execution_count": null,
      "outputs": []
    },
    {
      "cell_type": "code",
      "source": [
        "Frutas= [\"Manzana\",\"Uva\",\"Mango\",\"Platano\",\"Fresa\"]\n",
        "\n",
        "funcion(Frutas)"
      ],
      "metadata": {
        "colab": {
          "base_uri": "https://localhost:8080/"
        },
        "id": "NipmOG-Eodl3",
        "outputId": "901d152c-dd59-43a8-c124-251477c419e8"
      },
      "execution_count": null,
      "outputs": [
        {
          "output_type": "stream",
          "name": "stdout",
          "text": [
            "Fresa\n",
            "Manzana\n",
            "Uva\n",
            "Mango\n",
            "Platano\n",
            "Fresa\n"
          ]
        }
      ]
    },
    {
      "cell_type": "markdown",
      "source": [
        "**3: Escribe una función que toma una lista de strings y los imprima línea por línea en un marco rectangular.**"
      ],
      "metadata": {
        "id": "y8LPXgG_bVUX"
      }
    },
    {
      "cell_type": "code",
      "source": [
        "\n",
        "def my_function(marco):\n",
        "\n",
        "  for x in marco:\n",
        "     for y in \"*\":\n",
        "       print(y, x, y,)\n"
      ],
      "metadata": {
        "id": "AmgvQcjgv9TG"
      },
      "execution_count": null,
      "outputs": []
    },
    {
      "cell_type": "code",
      "source": [
        "lista = [ \"Hola\", \"a\",\"todos\", \"esto\", \"es\", \"un\", \"marco\"]\n",
        "a = \"********\"\n",
        "\n",
        "print(a)\n",
        "my_function(lista)\n",
        "print(a)"
      ],
      "metadata": {
        "colab": {
          "base_uri": "https://localhost:8080/"
        },
        "id": "vwBH-qXVv9m5",
        "outputId": "9e66b1c8-15c0-4221-e052-0fdb36a26d7a"
      },
      "execution_count": null,
      "outputs": [
        {
          "output_type": "stream",
          "name": "stdout",
          "text": [
            "********\n",
            "* Hola *\n",
            "* a *\n",
            "* todos *\n",
            "* esto *\n",
            "* es *\n",
            "* un *\n",
            "* marco *\n",
            "********\n"
          ]
        }
      ]
    },
    {
      "cell_type": "markdown",
      "source": [
        "Link a google colab:\n",
        "\n",
        "https://colab.research.google.com/drive/17jSDeBhsE02siIvW7rKNEygCgJlpfBrH?usp=sharing#scrollTo=_ePBLRVM-KRK"
      ],
      "metadata": {
        "id": "_ePBLRVM-KRK"
      }
    }
  ]
}
